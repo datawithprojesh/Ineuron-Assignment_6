{
 "cells": [
  {
   "cell_type": "markdown",
   "id": "dd3a9695",
   "metadata": {},
   "source": [
    "### Q.1. What are keywords in python? Using the keyword library, print all the python keywords."
   ]
  },
  {
   "cell_type": "markdown",
   "id": "8231e130",
   "metadata": {},
   "source": [
    "#### Keywords in Python are reserved words that have predefined meanings and cannot be used as identifiers (e.g., variable names or function names). These keywords are part of the Python language syntax and serve specific purposes in the code."
   ]
  },
  {
   "cell_type": "code",
   "execution_count": 16,
   "id": "2198155d",
   "metadata": {},
   "outputs": [
    {
     "name": "stdout",
     "output_type": "stream",
     "text": [
      "['False', 'None', 'True', '__peg_parser__', 'and', 'as', 'assert', 'async', 'await', 'break', 'class', 'continue', 'def', 'del', 'elif', 'else', 'except', 'finally', 'for', 'from', 'global', 'if', 'import', 'in', 'is', 'lambda', 'nonlocal', 'not', 'or', 'pass', 'raise', 'return', 'try', 'while', 'with', 'yield']\n"
     ]
    }
   ],
   "source": [
    "import keyword\n",
    "\n",
    "all_keywords = keyword.kwlist\n",
    "print(all_keywords)\n"
   ]
  },
  {
   "cell_type": "markdown",
   "id": "9a16004a",
   "metadata": {},
   "source": [
    "### Q.2. What are the rules to create variables in python?"
   ]
  },
  {
   "cell_type": "markdown",
   "id": "969aa7f0",
   "metadata": {},
   "source": [
    "In Python, variables are used to store and reference data. Here are the rules for creating variables in Python:\n",
    "\n",
    "1.    Variable Name: A variable name in Python can consist of letters (both lowercase and uppercase), digits, and underscores (_). It must start with a letter or an underscore. Python is case-sensitive, so myVariable and myvariable would be considered different variables.\n",
    "\n",
    "2.    Valid Examples: age, name, _count, my_variable, result123\n",
    "\n",
    "      Invalid Examples: 2count (starts with a digit), my-variable (contains a hyphen), class (a reserved keyword)\n",
    "\n",
    "3.    Reserved Keywords: You cannot use reserved keywords as variable names. For example, you cannot use keywords like if, for, while, def, etc., as variable names. You can check the full list of reserved keywords using the keyword module, as shown in the previous question.\n",
    "\n",
    "4.    Avoid Built-in Functions or Modules: It is generally recommended to avoid using the names of built-in functions or modules as variable names. For example, using print, sum, or list as variable names can cause conflicts with the corresponding built-in functions or modules.\n",
    "\n",
    "5.    Readability and Clarity: It is important to choose variable names that are descriptive and meaningful, so they can be easily understood by other programmers. For example, using student_name instead of just name can make the code more readable."
   ]
  },
  {
   "cell_type": "markdown",
   "id": "63371283",
   "metadata": {},
   "source": [
    "### Q.3. What are the standards and conventions followed for the nomenclature of variables in python to improve code readability and maintainability?"
   ]
  },
  {
   "cell_type": "markdown",
   "id": "e99ed333",
   "metadata": {},
   "source": [
    "To improve code readability and maintainability, Python programmers often follow certain standards and conventions when naming variables. Here are some commonly followed standards and conventions:\n",
    "\n",
    "-    Use descriptive names: Choose variable names that accurately describe their purpose or the data they represent. This makes the code more readable and helps other programmers understand the code's intent. For example, use total_students instead of simply ts.\n",
    "\n",
    "-    Use lowercase with underscores: Python convention suggests using lowercase letters for variable names and separating words with underscores (snake_case). This improves readability and makes the variable names more distinguishable. For example, use first_name instead of firstName or FirstName.\n",
    "\n",
    "-    Avoid single-character names: Except for loop counters or well-known conventions (e.g., i, j, x, y), it is generally better to use descriptive names instead of single-character names. This helps in understanding the purpose of the variable. For example, use index instead of i when iterating over a collection.\n",
    "\n",
    "-    Be consistent and meaningful: Maintain consistency in variable naming across your codebase. Choose meaningful names that are specific to the context and purpose of the variable. Avoid generic names like temp or data, as they can make the code harder to understand.\n",
    "\n",
    "-    Follow naming conventions for special cases: For certain types of variables, specific naming conventions are commonly followed. For example:\n",
    "-        Constants: Use uppercase letters with underscores to indicate constants. For example, MAX_VALUE, PI.\n",
    "-        Class names: Follow the PascalCase convention where each word starts with an uppercase letter. For example, Person, CustomerData.\n",
    "-        Module-level variables: Use lowercase with underscores to indicate module-level variables. For example, config_file, database_connection.\n",
    "\n",
    "-    Avoid using reserved keywords: Do not use Python's reserved keywords as variable names, as they have special meanings in the language."
   ]
  },
  {
   "cell_type": "markdown",
   "id": "eff1555f",
   "metadata": {},
   "source": [
    "### Q.4. What will happen if a keyword is used as a variable name?"
   ]
  },
  {
   "cell_type": "markdown",
   "id": "efff14c2",
   "metadata": {},
   "source": [
    "If a keyword is used as a variable name in Python, it will result in a syntax error. Keywords are reserved words in the Python language, and they have predefined meanings and functionalities. Using a keyword as a variable name goes against the language syntax rules and is not allowed.\n",
    "\n",
    "Here's an example to illustrate what happens if a keyword is used as a variable name:\n",
    "\n",
    "for = 5  # Using \"for\" as a variable name, which is a keyword\n",
    "\n",
    "print(for)\n",
    "\n",
    "#### Output: SyntaxError: invalid syntax"
   ]
  },
  {
   "cell_type": "markdown",
   "id": "6678b855",
   "metadata": {},
   "source": [
    "### Q.5. For what purpose def keyword is used?"
   ]
  },
  {
   "cell_type": "markdown",
   "id": "9a266e9e",
   "metadata": {},
   "source": [
    "The def keyword in Python is used to define a function. It is an essential part of the language's syntax and serves the purpose of creating reusable blocks of code that can be called and executed whenever needed.\n",
    "\n",
    "When you use the def keyword followed by a function name, you are defining a new function in Python. Here's the basic syntax for defining a function:\n",
    "\n",
    "def function_name(parameters):\n",
    "\n",
    "##### Function body\n",
    "\n",
    "##### Code to be executed\n",
    "\n",
    "##### Optionally, return a value\n"
   ]
  },
  {
   "cell_type": "markdown",
   "id": "3b6e1b8f",
   "metadata": {},
   "source": [
    "### Q.6. What is the operation of this special character ‘\\’?"
   ]
  },
  {
   "cell_type": "markdown",
   "id": "8b7369ff",
   "metadata": {},
   "source": [
    "The special character \\ is known as the backslash in Python. It serves as an escape character and is used to represent certain special sequences or to escape characters that would otherwise have a special meaning.\n",
    "\n",
    "Here are some common uses of the backslash (\\) in Python:\n",
    "\n",
    "Escape sequences: The backslash is used to create escape sequences for characters that have special meanings in strings. For example:\n",
    "\n",
    "    \\n: Represents a newline character.\n",
    "    \\t: Represents a tab character.\n",
    "    \\': Represents a single quote character.\n",
    "    \\\": Represents a double quote character.\n",
    "    \\\\: Represents a literal backslash character.\n",
    "\n",
    "By using the backslash before these special characters, you can include them in strings without causing syntax errors or altering their behavior."
   ]
  },
  {
   "cell_type": "markdown",
   "id": "574356f6",
   "metadata": {},
   "source": [
    "### Q.7. Give an example of the following conditions:\n",
    "\n",
    "- (i) Homogeneous list\n",
    "- (ii) Heterogeneous set\n",
    "- (iii) Homogeneous tuple"
   ]
  },
  {
   "cell_type": "markdown",
   "id": "c4459f9a",
   "metadata": {},
   "source": [
    "(i) Homogeneous list:\n",
    "A homogeneous list contains elements of the same data type.\n",
    "\n",
    "numbers = [1, 2, 3, 4, 5]\n",
    "\n",
    "(ii) Heterogeneous set:\n",
    "A heterogeneous set can contain elements of different data types.\n",
    "\n",
    "my_set = {1, \"hello\", True, 3.14}\n",
    "\n",
    "(iii) Homogeneous tuple:\n",
    "A homogeneous tuple contains elements of the same data type.\n",
    "\n",
    "fruits = (\"apple\", \"banana\", \"orange\", \"kiwi\")\n"
   ]
  },
  {
   "cell_type": "markdown",
   "id": "e7f45df2",
   "metadata": {},
   "source": [
    "### Q.8. Explain the mutable and immutable data types with proper explanation & examples."
   ]
  },
  {
   "cell_type": "markdown",
   "id": "d906b6eb",
   "metadata": {},
   "source": [
    "In Python, data types can be classified as either mutable or immutable based on whether their values can be changed after they are created.\n",
    "\n",
    "Mutable Data Types:\n",
    "Mutable data types are those that can be modified after creation. When you modify a mutable object, its value or state can change without creating a new object. Examples of mutable data types in Python include:\n",
    "\n",
    "1. Lists: Lists are ordered collections of items enclosed in square brackets ([]). You can modify elements within a list, add or remove elements, or change the order of elements.\n",
    "\n",
    "my_list = [1, 2, 3]\n",
    "\n",
    "my_list[0] = 10\n",
    "\n",
    "print(my_list)  # Output: [10, 2, 3]\n",
    "\n",
    "\n",
    "Immutable Data Types:\n",
    "Immutable data types, as the name suggests, cannot be changed once they are created. Any modification to an immutable object results in creating a new object with the modified value. Examples of immutable data types in Python include:\n",
    "\n",
    "2. Tuples: Tuples are ordered collections of elements enclosed in parentheses (). Like strings, you cannot modify elements within a tuple. Instead, you create a new tuple with the desired modifications.\n",
    "\n",
    "\n",
    "my_tuple = (1, 2, 3)\n",
    "\n",
    "new_tuple = my_tuple + (4,)\n",
    "\n",
    "print(new_tuple)  # Output: (1, 2, 3, 4)\n"
   ]
  },
  {
   "cell_type": "markdown",
   "id": "c31ddcd7",
   "metadata": {},
   "source": [
    "### Q.9. Write a code to create the given structure using only for loop."
   ]
  },
  {
   "cell_type": "code",
   "execution_count": 1,
   "id": "36ce89d7",
   "metadata": {},
   "outputs": [],
   "source": [
    "#     *\n",
    "#    ***\n",
    "#   *****\n",
    "#  *******\n",
    "# *********"
   ]
  },
  {
   "cell_type": "code",
   "execution_count": 3,
   "id": "9ef44435",
   "metadata": {},
   "outputs": [
    {
     "name": "stdout",
     "output_type": "stream",
     "text": [
      "        * \n",
      "      * * * \n",
      "    * * * * * \n",
      "  * * * * * * * \n",
      "* * * * * * * * * \n"
     ]
    }
   ],
   "source": [
    "rows = 5 \n",
    "\n",
    "for i in range(rows):\n",
    "    for j in range(rows - i - 1):\n",
    "        print(\" \", end=\" \")\n",
    "    for k in range(2 * i + 1):\n",
    "        print(\"*\", end=\" \")\n",
    "    print()\n"
   ]
  },
  {
   "cell_type": "markdown",
   "id": "3f1e1e18",
   "metadata": {},
   "source": [
    "### Q.10. Write a code to create the given structure using while loop."
   ]
  },
  {
   "cell_type": "code",
   "execution_count": 4,
   "id": "b5046b5d",
   "metadata": {},
   "outputs": [],
   "source": [
    "# |||||||||\n",
    "#  |||||||\n",
    "#   |||||\n",
    "#    |||\n",
    "#     |"
   ]
  },
  {
   "cell_type": "code",
   "execution_count": 15,
   "id": "41fa803a",
   "metadata": {},
   "outputs": [
    {
     "name": "stdout",
     "output_type": "stream",
     "text": [
      "| | | | | | \n",
      " | | | | | \n",
      "  | | | | \n",
      "   | | | \n",
      "    | | \n"
     ]
    }
   ],
   "source": [
    "rows = 5 \n",
    "spaces = 0  \n",
    "\n",
    "while rows > 0:\n",
    "    print(\" \" * spaces + \"| \" * rows + \"| \")\n",
    "    spaces += 1\n",
    "    rows -= 1\n"
   ]
  },
  {
   "cell_type": "code",
   "execution_count": null,
   "id": "35056165",
   "metadata": {},
   "outputs": [],
   "source": []
  }
 ],
 "metadata": {
  "kernelspec": {
   "display_name": "Python 3 (ipykernel)",
   "language": "python",
   "name": "python3"
  },
  "language_info": {
   "codemirror_mode": {
    "name": "ipython",
    "version": 3
   },
   "file_extension": ".py",
   "mimetype": "text/x-python",
   "name": "python",
   "nbconvert_exporter": "python",
   "pygments_lexer": "ipython3",
   "version": "3.9.13"
  }
 },
 "nbformat": 4,
 "nbformat_minor": 5
}
